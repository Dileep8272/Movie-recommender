{
  "metadata": {
    "language_info": {
      "codemirror_mode": {
        "name": "python",
        "version": 3
      },
      "file_extension": ".py",
      "mimetype": "text/x-python",
      "name": "python",
      "nbconvert_exporter": "python",
      "pygments_lexer": "ipython3",
      "version": "3.8"
    },
    "kernelspec": {
      "name": "python",
      "display_name": "Python (Pyodide)",
      "language": "python"
    }
  },
  "nbformat_minor": 4,
  "nbformat": 4,
  "cells": [
    {
      "cell_type": "code",
      "source": "import numpy as np \nimport pandas as pd",
      "metadata": {
        "trusted": true
      },
      "execution_count": 1,
      "outputs": []
    },
    {
      "cell_type": "code",
      "source": "import os\nprint(os.getcwd())",
      "metadata": {
        "trusted": true
      },
      "execution_count": 2,
      "outputs": [
        {
          "name": "stdout",
          "text": "/drive/notebooks\n",
          "output_type": "stream"
        }
      ]
    },
    {
      "cell_type": "code",
      "source": "movies = pd.read_csv('movies_initial.csv')",
      "metadata": {
        "trusted": true
      },
      "execution_count": 3,
      "outputs": []
    },
    {
      "cell_type": "code",
      "source": "movies.head(1)",
      "metadata": {
        "trusted": true
      },
      "execution_count": 4,
      "outputs": [
        {
          "execution_count": 4,
          "output_type": "execute_result",
          "data": {
            "text/plain": "   imdbID       title  year     rating runtime               genre released  \\\n0       1  Carmencita  1894  NOT RATED   1 min  Documentary, Short      NaN   \n\n               director writer        cast  ...  imdbRating  imdbVotes  \\\n0  William K.L. Dickson    NaN  Carmencita  ...         5.9     1032.0   \n\n                                              poster  \\\n0  https://m.media-amazon.com/images/M/MV5BMjAzND...   \n\n                                                plot  \\\n0  Performing on what looks like a small wooden s...   \n\n                                            fullplot language country awards  \\\n0  Performing on what looks like a small wooden s...      NaN     USA    NaN   \n\n                     lastupdated   type  \n0  2015-08-26 00:03:45.040000000  movie  \n\n[1 rows x 21 columns]",
            "text/html": "<div>\n<style scoped>\n    .dataframe tbody tr th:only-of-type {\n        vertical-align: middle;\n    }\n\n    .dataframe tbody tr th {\n        vertical-align: top;\n    }\n\n    .dataframe thead th {\n        text-align: right;\n    }\n</style>\n<table border=\"1\" class=\"dataframe\">\n  <thead>\n    <tr style=\"text-align: right;\">\n      <th></th>\n      <th>imdbID</th>\n      <th>title</th>\n      <th>year</th>\n      <th>rating</th>\n      <th>runtime</th>\n      <th>genre</th>\n      <th>released</th>\n      <th>director</th>\n      <th>writer</th>\n      <th>cast</th>\n      <th>...</th>\n      <th>imdbRating</th>\n      <th>imdbVotes</th>\n      <th>poster</th>\n      <th>plot</th>\n      <th>fullplot</th>\n      <th>language</th>\n      <th>country</th>\n      <th>awards</th>\n      <th>lastupdated</th>\n      <th>type</th>\n    </tr>\n  </thead>\n  <tbody>\n    <tr>\n      <th>0</th>\n      <td>1</td>\n      <td>Carmencita</td>\n      <td>1894</td>\n      <td>NOT RATED</td>\n      <td>1 min</td>\n      <td>Documentary, Short</td>\n      <td>NaN</td>\n      <td>William K.L. Dickson</td>\n      <td>NaN</td>\n      <td>Carmencita</td>\n      <td>...</td>\n      <td>5.9</td>\n      <td>1032.0</td>\n      <td>https://m.media-amazon.com/images/M/MV5BMjAzND...</td>\n      <td>Performing on what looks like a small wooden s...</td>\n      <td>Performing on what looks like a small wooden s...</td>\n      <td>NaN</td>\n      <td>USA</td>\n      <td>NaN</td>\n      <td>2015-08-26 00:03:45.040000000</td>\n      <td>movie</td>\n    </tr>\n  </tbody>\n</table>\n<p>1 rows × 21 columns</p>\n</div>"
          },
          "metadata": {}
        }
      ]
    },
    {
      "cell_type": "code",
      "source": "movies.shape",
      "metadata": {
        "trusted": true
      },
      "execution_count": 5,
      "outputs": [
        {
          "execution_count": 5,
          "output_type": "execute_result",
          "data": {
            "text/plain": "(46014, 21)"
          },
          "metadata": {}
        }
      ]
    },
    {
      "cell_type": "code",
      "source": "#id, title, genre, keyword, plot, cast, director\nmovies = movies[['imdbID','title','genre','director','cast','plot','type']]\n",
      "metadata": {
        "trusted": true
      },
      "execution_count": 6,
      "outputs": []
    },
    {
      "cell_type": "code",
      "source": "movies.dropna(inplace=True)",
      "metadata": {
        "trusted": true
      },
      "execution_count": 7,
      "outputs": []
    },
    {
      "cell_type": "code",
      "source": "movies.shape",
      "metadata": {
        "trusted": true
      },
      "execution_count": 8,
      "outputs": [
        {
          "execution_count": 8,
          "output_type": "execute_result",
          "data": {
            "text/plain": "(40731, 7)"
          },
          "metadata": {}
        }
      ]
    },
    {
      "cell_type": "code",
      "source": "movies = movies[0:4000]",
      "metadata": {
        "trusted": true
      },
      "execution_count": 9,
      "outputs": []
    },
    {
      "cell_type": "code",
      "source": "dist_type = movies['type'].unique()\nprint(dist_type)",
      "metadata": {
        "trusted": true
      },
      "execution_count": 10,
      "outputs": [
        {
          "name": "stdout",
          "text": "['movie']\n",
          "output_type": "stream"
        }
      ]
    },
    {
      "cell_type": "code",
      "source": "def collapse(L):\n    L1 = \"\"\n    for i in L:\n        L1 += (i.replace(\" \",\"\"))\n    return L1",
      "metadata": {
        "trusted": true
      },
      "execution_count": 11,
      "outputs": []
    },
    {
      "cell_type": "code",
      "source": "movies['cast'] = movies['cast'].apply(collapse)\n# movies['plot'] = movies['plot'].apply(collapse)\nmovies['genre'] = movies['genre'].apply(collapse)\nmovies['director'] = movies['director'].apply(collapse)",
      "metadata": {
        "trusted": true
      },
      "execution_count": 12,
      "outputs": []
    },
    {
      "cell_type": "code",
      "source": "movies.head(3)\n",
      "metadata": {
        "trusted": true
      },
      "execution_count": 13,
      "outputs": [
        {
          "execution_count": 13,
          "output_type": "execute_result",
          "data": {
            "text/plain": "   imdbID                                   title              genre  \\\n0       1                              Carmencita  Documentary,Short   \n1       5                        Blacksmith Scene              Short   \n3       8  Edison Kinetoscopic Record of a Sneeze  Documentary,Short   \n\n             director                   cast  \\\n0  WilliamK.L.Dickson             Carmencita   \n1  WilliamK.L.Dickson  CharlesKayser,JohnOtt   \n3  WilliamK.L.Dickson                FredOtt   \n\n                                                plot   type  \n0  Performing on what looks like a small wooden s...  movie  \n1  Three men hammer on an anvil and pass a bottle...  movie  \n3  A man (Thomas Edison's assistant) takes a pinc...  movie  ",
            "text/html": "<div>\n<style scoped>\n    .dataframe tbody tr th:only-of-type {\n        vertical-align: middle;\n    }\n\n    .dataframe tbody tr th {\n        vertical-align: top;\n    }\n\n    .dataframe thead th {\n        text-align: right;\n    }\n</style>\n<table border=\"1\" class=\"dataframe\">\n  <thead>\n    <tr style=\"text-align: right;\">\n      <th></th>\n      <th>imdbID</th>\n      <th>title</th>\n      <th>genre</th>\n      <th>director</th>\n      <th>cast</th>\n      <th>plot</th>\n      <th>type</th>\n    </tr>\n  </thead>\n  <tbody>\n    <tr>\n      <th>0</th>\n      <td>1</td>\n      <td>Carmencita</td>\n      <td>Documentary,Short</td>\n      <td>WilliamK.L.Dickson</td>\n      <td>Carmencita</td>\n      <td>Performing on what looks like a small wooden s...</td>\n      <td>movie</td>\n    </tr>\n    <tr>\n      <th>1</th>\n      <td>5</td>\n      <td>Blacksmith Scene</td>\n      <td>Short</td>\n      <td>WilliamK.L.Dickson</td>\n      <td>CharlesKayser,JohnOtt</td>\n      <td>Three men hammer on an anvil and pass a bottle...</td>\n      <td>movie</td>\n    </tr>\n    <tr>\n      <th>3</th>\n      <td>8</td>\n      <td>Edison Kinetoscopic Record of a Sneeze</td>\n      <td>Documentary,Short</td>\n      <td>WilliamK.L.Dickson</td>\n      <td>FredOtt</td>\n      <td>A man (Thomas Edison's assistant) takes a pinc...</td>\n      <td>movie</td>\n    </tr>\n  </tbody>\n</table>\n</div>"
          },
          "metadata": {}
        }
      ]
    },
    {
      "cell_type": "code",
      "source": "\nmovies['genre'] = movies['genre'].apply(lambda x:x.split())\nmovies['director'] = movies['director'].apply(lambda x:x.split())\nmovies['plot'] = movies['plot'].apply(lambda x:x.split())\nmovies['cast'] = movies['cast'].apply(lambda x:x.split())",
      "metadata": {
        "trusted": true
      },
      "execution_count": 14,
      "outputs": []
    },
    {
      "cell_type": "code",
      "source": "movies.head(3)",
      "metadata": {
        "trusted": true
      },
      "execution_count": 15,
      "outputs": [
        {
          "execution_count": 15,
          "output_type": "execute_result",
          "data": {
            "text/plain": "   imdbID                                   title                genre  \\\n0       1                              Carmencita  [Documentary,Short]   \n1       5                        Blacksmith Scene              [Short]   \n3       8  Edison Kinetoscopic Record of a Sneeze  [Documentary,Short]   \n\n               director                     cast  \\\n0  [WilliamK.L.Dickson]             [Carmencita]   \n1  [WilliamK.L.Dickson]  [CharlesKayser,JohnOtt]   \n3  [WilliamK.L.Dickson]                [FredOtt]   \n\n                                                plot   type  \n0  [Performing, on, what, looks, like, a, small, ...  movie  \n1  [Three, men, hammer, on, an, anvil, and, pass,...  movie  \n3  [A, man, (Thomas, Edison's, assistant), takes,...  movie  ",
            "text/html": "<div>\n<style scoped>\n    .dataframe tbody tr th:only-of-type {\n        vertical-align: middle;\n    }\n\n    .dataframe tbody tr th {\n        vertical-align: top;\n    }\n\n    .dataframe thead th {\n        text-align: right;\n    }\n</style>\n<table border=\"1\" class=\"dataframe\">\n  <thead>\n    <tr style=\"text-align: right;\">\n      <th></th>\n      <th>imdbID</th>\n      <th>title</th>\n      <th>genre</th>\n      <th>director</th>\n      <th>cast</th>\n      <th>plot</th>\n      <th>type</th>\n    </tr>\n  </thead>\n  <tbody>\n    <tr>\n      <th>0</th>\n      <td>1</td>\n      <td>Carmencita</td>\n      <td>[Documentary,Short]</td>\n      <td>[WilliamK.L.Dickson]</td>\n      <td>[Carmencita]</td>\n      <td>[Performing, on, what, looks, like, a, small, ...</td>\n      <td>movie</td>\n    </tr>\n    <tr>\n      <th>1</th>\n      <td>5</td>\n      <td>Blacksmith Scene</td>\n      <td>[Short]</td>\n      <td>[WilliamK.L.Dickson]</td>\n      <td>[CharlesKayser,JohnOtt]</td>\n      <td>[Three, men, hammer, on, an, anvil, and, pass,...</td>\n      <td>movie</td>\n    </tr>\n    <tr>\n      <th>3</th>\n      <td>8</td>\n      <td>Edison Kinetoscopic Record of a Sneeze</td>\n      <td>[Documentary,Short]</td>\n      <td>[WilliamK.L.Dickson]</td>\n      <td>[FredOtt]</td>\n      <td>[A, man, (Thomas, Edison's, assistant), takes,...</td>\n      <td>movie</td>\n    </tr>\n  </tbody>\n</table>\n</div>"
          },
          "metadata": {}
        }
      ]
    },
    {
      "cell_type": "code",
      "source": "movies['tags'] = movies['cast'] + movies['genre'] + movies['director'] + movies['plot'] ",
      "metadata": {
        "trusted": true
      },
      "execution_count": 16,
      "outputs": []
    },
    {
      "cell_type": "code",
      "source": "movies.head(1)",
      "metadata": {
        "trusted": true
      },
      "execution_count": 17,
      "outputs": [
        {
          "execution_count": 17,
          "output_type": "execute_result",
          "data": {
            "text/plain": "   imdbID       title                genre              director  \\\n0       1  Carmencita  [Documentary,Short]  [WilliamK.L.Dickson]   \n\n           cast                                               plot   type  \\\n0  [Carmencita]  [Performing, on, what, looks, like, a, small, ...  movie   \n\n                                                tags  \n0  [Carmencita, Documentary,Short, WilliamK.L.Dic...  ",
            "text/html": "<div>\n<style scoped>\n    .dataframe tbody tr th:only-of-type {\n        vertical-align: middle;\n    }\n\n    .dataframe tbody tr th {\n        vertical-align: top;\n    }\n\n    .dataframe thead th {\n        text-align: right;\n    }\n</style>\n<table border=\"1\" class=\"dataframe\">\n  <thead>\n    <tr style=\"text-align: right;\">\n      <th></th>\n      <th>imdbID</th>\n      <th>title</th>\n      <th>genre</th>\n      <th>director</th>\n      <th>cast</th>\n      <th>plot</th>\n      <th>type</th>\n      <th>tags</th>\n    </tr>\n  </thead>\n  <tbody>\n    <tr>\n      <th>0</th>\n      <td>1</td>\n      <td>Carmencita</td>\n      <td>[Documentary,Short]</td>\n      <td>[WilliamK.L.Dickson]</td>\n      <td>[Carmencita]</td>\n      <td>[Performing, on, what, looks, like, a, small, ...</td>\n      <td>movie</td>\n      <td>[Carmencita, Documentary,Short, WilliamK.L.Dic...</td>\n    </tr>\n  </tbody>\n</table>\n</div>"
          },
          "metadata": {}
        }
      ]
    },
    {
      "cell_type": "code",
      "source": "new_m = movies.drop(columns=['genre','director','cast','plot', 'type'])",
      "metadata": {
        "trusted": true
      },
      "execution_count": 18,
      "outputs": []
    },
    {
      "cell_type": "code",
      "source": "new_m.head(10)",
      "metadata": {
        "trusted": true
      },
      "execution_count": 19,
      "outputs": [
        {
          "execution_count": 19,
          "output_type": "execute_result",
          "data": {
            "text/plain": "    imdbID                                              title  \\\n0        1                                         Carmencita   \n1        5                                   Blacksmith Scene   \n3        8             Edison Kinetoscopic Record of a Sneeze   \n6       14                      Tables Turned on the Gardener   \n7       29                                      Baby's Dinner   \n9       70                                D�molition d'un mur   \n10      91                             The House of the Devil   \n11      75  The Conjuring of a Woman at the House of Rober...   \n12     131                                   A Terrible Night   \n13     132                               Une partie de cartes   \n\n                                                 tags  \n0   [Carmencita, Documentary,Short, WilliamK.L.Dic...  \n1   [CharlesKayser,JohnOtt, Short, WilliamK.L.Dick...  \n3   [FredOtt, Documentary,Short, WilliamK.L.Dickso...  \n6   [Fran�oisClerc,Beno�tDuval, Comedy,Short, Loui...  \n7   [Mrs.AugusteLumiere,Andr�eLumi�re,AugusteLumi�...  \n9   [AugusteLumi�re, Documentary,Short, LouisLumi�...  \n10  [Jeanned'Alcy,GeorgesM�li�s, Short,Horror, Geo...  \n11  [Jeanned'Alcy,GeorgesM�li�s, Short, GeorgesM�l...  \n12  [GeorgesM�li�s, Short,Comedy, GeorgesM�li�s, A...  \n13  [GastonM�li�s,GeorgesM�li�s,GeorgetteM�li�s, S...  ",
            "text/html": "<div>\n<style scoped>\n    .dataframe tbody tr th:only-of-type {\n        vertical-align: middle;\n    }\n\n    .dataframe tbody tr th {\n        vertical-align: top;\n    }\n\n    .dataframe thead th {\n        text-align: right;\n    }\n</style>\n<table border=\"1\" class=\"dataframe\">\n  <thead>\n    <tr style=\"text-align: right;\">\n      <th></th>\n      <th>imdbID</th>\n      <th>title</th>\n      <th>tags</th>\n    </tr>\n  </thead>\n  <tbody>\n    <tr>\n      <th>0</th>\n      <td>1</td>\n      <td>Carmencita</td>\n      <td>[Carmencita, Documentary,Short, WilliamK.L.Dic...</td>\n    </tr>\n    <tr>\n      <th>1</th>\n      <td>5</td>\n      <td>Blacksmith Scene</td>\n      <td>[CharlesKayser,JohnOtt, Short, WilliamK.L.Dick...</td>\n    </tr>\n    <tr>\n      <th>3</th>\n      <td>8</td>\n      <td>Edison Kinetoscopic Record of a Sneeze</td>\n      <td>[FredOtt, Documentary,Short, WilliamK.L.Dickso...</td>\n    </tr>\n    <tr>\n      <th>6</th>\n      <td>14</td>\n      <td>Tables Turned on the Gardener</td>\n      <td>[Fran�oisClerc,Beno�tDuval, Comedy,Short, Loui...</td>\n    </tr>\n    <tr>\n      <th>7</th>\n      <td>29</td>\n      <td>Baby's Dinner</td>\n      <td>[Mrs.AugusteLumiere,Andr�eLumi�re,AugusteLumi�...</td>\n    </tr>\n    <tr>\n      <th>9</th>\n      <td>70</td>\n      <td>D�molition d'un mur</td>\n      <td>[AugusteLumi�re, Documentary,Short, LouisLumi�...</td>\n    </tr>\n    <tr>\n      <th>10</th>\n      <td>91</td>\n      <td>The House of the Devil</td>\n      <td>[Jeanned'Alcy,GeorgesM�li�s, Short,Horror, Geo...</td>\n    </tr>\n    <tr>\n      <th>11</th>\n      <td>75</td>\n      <td>The Conjuring of a Woman at the House of Rober...</td>\n      <td>[Jeanned'Alcy,GeorgesM�li�s, Short, GeorgesM�l...</td>\n    </tr>\n    <tr>\n      <th>12</th>\n      <td>131</td>\n      <td>A Terrible Night</td>\n      <td>[GeorgesM�li�s, Short,Comedy, GeorgesM�li�s, A...</td>\n    </tr>\n    <tr>\n      <th>13</th>\n      <td>132</td>\n      <td>Une partie de cartes</td>\n      <td>[GastonM�li�s,GeorgesM�li�s,GeorgetteM�li�s, S...</td>\n    </tr>\n  </tbody>\n</table>\n</div>"
          },
          "metadata": {}
        }
      ]
    },
    {
      "cell_type": "code",
      "source": "new_m['tags'] = new_m['tags'].apply(lambda x:','.join(x))",
      "metadata": {
        "trusted": true
      },
      "execution_count": 20,
      "outputs": []
    },
    {
      "cell_type": "code",
      "source": "new_m.head(1)",
      "metadata": {
        "trusted": true
      },
      "execution_count": 21,
      "outputs": [
        {
          "execution_count": 21,
          "output_type": "execute_result",
          "data": {
            "text/plain": "   imdbID       title                                               tags\n0       1  Carmencita  Carmencita,Documentary,Short,WilliamK.L.Dickso...",
            "text/html": "<div>\n<style scoped>\n    .dataframe tbody tr th:only-of-type {\n        vertical-align: middle;\n    }\n\n    .dataframe tbody tr th {\n        vertical-align: top;\n    }\n\n    .dataframe thead th {\n        text-align: right;\n    }\n</style>\n<table border=\"1\" class=\"dataframe\">\n  <thead>\n    <tr style=\"text-align: right;\">\n      <th></th>\n      <th>imdbID</th>\n      <th>title</th>\n      <th>tags</th>\n    </tr>\n  </thead>\n  <tbody>\n    <tr>\n      <th>0</th>\n      <td>1</td>\n      <td>Carmencita</td>\n      <td>Carmencita,Documentary,Short,WilliamK.L.Dickso...</td>\n    </tr>\n  </tbody>\n</table>\n</div>"
          },
          "metadata": {}
        }
      ]
    },
    {
      "cell_type": "code",
      "source": "import nltk\nfrom nltk.stem import PorterStemmer",
      "metadata": {
        "trusted": true
      },
      "execution_count": 22,
      "outputs": []
    },
    {
      "cell_type": "code",
      "source": "pr = PorterStemmer()",
      "metadata": {
        "trusted": true
      },
      "execution_count": 23,
      "outputs": []
    },
    {
      "cell_type": "code",
      "source": "stem_wrds = [pr.stem(word) for word in new_m['tags']]",
      "metadata": {
        "trusted": true
      },
      "execution_count": 24,
      "outputs": []
    },
    {
      "cell_type": "code",
      "source": "uniq_stems = list(stem_wrds)",
      "metadata": {
        "trusted": true
      },
      "execution_count": 25,
      "outputs": []
    },
    {
      "cell_type": "code",
      "source": "new_m['tags'] = uniq_stems",
      "metadata": {
        "trusted": true
      },
      "execution_count": 26,
      "outputs": []
    },
    {
      "cell_type": "code",
      "source": "new_m.head(1)",
      "metadata": {
        "trusted": true
      },
      "execution_count": 27,
      "outputs": [
        {
          "execution_count": 27,
          "output_type": "execute_result",
          "data": {
            "text/plain": "   imdbID       title                                               tags\n0       1  Carmencita  carmencita,documentary,short,williamk.l.dickso...",
            "text/html": "<div>\n<style scoped>\n    .dataframe tbody tr th:only-of-type {\n        vertical-align: middle;\n    }\n\n    .dataframe tbody tr th {\n        vertical-align: top;\n    }\n\n    .dataframe thead th {\n        text-align: right;\n    }\n</style>\n<table border=\"1\" class=\"dataframe\">\n  <thead>\n    <tr style=\"text-align: right;\">\n      <th></th>\n      <th>imdbID</th>\n      <th>title</th>\n      <th>tags</th>\n    </tr>\n  </thead>\n  <tbody>\n    <tr>\n      <th>0</th>\n      <td>1</td>\n      <td>Carmencita</td>\n      <td>carmencita,documentary,short,williamk.l.dickso...</td>\n    </tr>\n  </tbody>\n</table>\n</div>"
          },
          "metadata": {}
        }
      ]
    },
    {
      "cell_type": "code",
      "source": "new_m['tags'][0]",
      "metadata": {
        "trusted": true
      },
      "execution_count": 28,
      "outputs": [
        {
          "execution_count": 28,
          "output_type": "execute_result",
          "data": {
            "text/plain": "'carmencita,documentary,short,williamk.l.dickson,performing,on,what,looks,like,a,small,wooden,stage,,wearing,a,dress,with,a,hoop,skirt,and,white,high-heeled,pumps,,carmencita,does,a,dance,with,kicks,and,twirls,,a,smile,always,on,her,face.'"
          },
          "metadata": {}
        }
      ]
    },
    {
      "cell_type": "code",
      "source": "new_m.head(1)",
      "metadata": {
        "trusted": true
      },
      "execution_count": 29,
      "outputs": [
        {
          "execution_count": 29,
          "output_type": "execute_result",
          "data": {
            "text/plain": "   imdbID       title                                               tags\n0       1  Carmencita  carmencita,documentary,short,williamk.l.dickso...",
            "text/html": "<div>\n<style scoped>\n    .dataframe tbody tr th:only-of-type {\n        vertical-align: middle;\n    }\n\n    .dataframe tbody tr th {\n        vertical-align: top;\n    }\n\n    .dataframe thead th {\n        text-align: right;\n    }\n</style>\n<table border=\"1\" class=\"dataframe\">\n  <thead>\n    <tr style=\"text-align: right;\">\n      <th></th>\n      <th>imdbID</th>\n      <th>title</th>\n      <th>tags</th>\n    </tr>\n  </thead>\n  <tbody>\n    <tr>\n      <th>0</th>\n      <td>1</td>\n      <td>Carmencita</td>\n      <td>carmencita,documentary,short,williamk.l.dickso...</td>\n    </tr>\n  </tbody>\n</table>\n</div>"
          },
          "metadata": {}
        }
      ]
    },
    {
      "cell_type": "code",
      "source": "new_m.shape",
      "metadata": {
        "trusted": true
      },
      "execution_count": 30,
      "outputs": [
        {
          "execution_count": 30,
          "output_type": "execute_result",
          "data": {
            "text/plain": "(4000, 3)"
          },
          "metadata": {}
        }
      ]
    },
    {
      "cell_type": "code",
      "source": "from sklearn.feature_extraction.text import CountVectorizer\ncv = CountVectorizer(max_features=5000,stop_words='english')",
      "metadata": {
        "trusted": true
      },
      "execution_count": 31,
      "outputs": []
    },
    {
      "cell_type": "code",
      "source": "vectors = cv.fit_transform(new_m['tags']).toarray()",
      "metadata": {
        "trusted": true
      },
      "execution_count": 32,
      "outputs": []
    },
    {
      "cell_type": "code",
      "source": "vectors",
      "metadata": {
        "trusted": true
      },
      "execution_count": 33,
      "outputs": [
        {
          "execution_count": 33,
          "output_type": "execute_result",
          "data": {
            "text/plain": "array([[0, 0, 0, ..., 0, 0, 0],\n       [0, 0, 0, ..., 0, 0, 0],\n       [0, 0, 0, ..., 0, 0, 0],\n       ...,\n       [0, 0, 0, ..., 0, 0, 0],\n       [0, 0, 0, ..., 0, 0, 0],\n       [0, 1, 0, ..., 0, 0, 0]], dtype=int64)"
          },
          "metadata": {}
        }
      ]
    },
    {
      "cell_type": "code",
      "source": "vectors[0]",
      "metadata": {
        "trusted": true
      },
      "execution_count": 34,
      "outputs": [
        {
          "execution_count": 34,
          "output_type": "execute_result",
          "data": {
            "text/plain": "array([0, 0, 0, ..., 0, 0, 0], dtype=int64)"
          },
          "metadata": {}
        }
      ]
    },
    {
      "cell_type": "code",
      "source": "c = cv.get_feature_names_out()",
      "metadata": {
        "trusted": true
      },
      "execution_count": 35,
      "outputs": []
    },
    {
      "cell_type": "code",
      "source": "from sklearn.metrics.pairwise import cosine_similarity",
      "metadata": {
        "trusted": true
      },
      "execution_count": 36,
      "outputs": []
    },
    {
      "cell_type": "code",
      "source": "similarity = cosine_similarity(vectors)",
      "metadata": {
        "trusted": true
      },
      "execution_count": 37,
      "outputs": []
    },
    {
      "cell_type": "code",
      "source": "similarity[8]\n",
      "metadata": {
        "trusted": true
      },
      "execution_count": 38,
      "outputs": [
        {
          "execution_count": 38,
          "output_type": "execute_result",
          "data": {
            "text/plain": "array([0.0521286 , 0.08512565, 0.09325048, ..., 0.08025724, 0.08025724,\n       0.04662524])"
          },
          "metadata": {}
        }
      ]
    },
    {
      "cell_type": "code",
      "source": "def recommend(movie):\n    index = new_m[new_m['title'] == movie].index[0]\n    distances = sorted(list(enumerate(similarity[index])),reverse=True,key = lambda x: x[1])\n    for i in distances[1:6]:\n        print(new_m.iloc[i[0]].title)",
      "metadata": {
        "trusted": true
      },
      "execution_count": 39,
      "outputs": []
    },
    {
      "cell_type": "code",
      "source": "recommend(\"Superman\")",
      "metadata": {
        "trusted": true
      },
      "execution_count": 40,
      "outputs": [
        {
          "name": "stdout",
          "text": "Barabbas\nAelita: Queen of Mars\nThe Last Days of Pompeii\nKim\nIn Which We Serve\n",
          "output_type": "stream"
        }
      ]
    },
    {
      "cell_type": "code",
      "source": "# import pickle",
      "metadata": {
        "trusted": true
      },
      "execution_count": 41,
      "outputs": []
    },
    {
      "cell_type": "code",
      "source": "# pickle.dump(new_m.to_dict(),open('movie_list.pkl','wb'))\n# pickle.dump(similarity,open('similarity.pkl','wb'))",
      "metadata": {
        "trusted": true
      },
      "execution_count": null,
      "outputs": []
    },
    {
      "cell_type": "code",
      "source": "",
      "metadata": {},
      "execution_count": null,
      "outputs": []
    }
  ]
}